{
 "cells": [
  {
   "cell_type": "markdown",
   "id": "e06ed0bc-6ce4-4856-9b3d-d1ece0e0922a",
   "metadata": {},
   "source": [
    "# Data Science Tools and Ecosystem"
   ]
  },
  {
   "cell_type": "markdown",
   "id": "19197360-9ac6-4314-b0c7-5f0b77d50079",
   "metadata": {},
   "source": [
    "In this notebook, Data Science Tools and Ecosystem are summarized."
   ]
  },
  {
   "cell_type": "markdown",
   "id": "801467fc-b9fd-46d9-8813-c521d2dfae10",
   "metadata": {},
   "source": [
    "<b>Objectives<b>:\n",
    "- List popular languages for Data Science\n",
    "- List commonly used libraries by Data Scientists\n",
    "- Showcase arithmetic expressions in Python"
   ]
  },
  {
   "cell_type": "markdown",
   "id": "172889b4-c18e-4e58-936b-005d612f2dd7",
   "metadata": {},
   "source": [
    "## Author\n",
    "Murtadha BinGhanim"
   ]
  },
  {
   "cell_type": "markdown",
   "id": "5008dd17-494d-4ea9-9f93-2caa3055f6ea",
   "metadata": {},
   "source": [
    "Some of the popular languages that Data Scientists use are:\n",
    "1. R\n",
    "2. Python\n",
    "3. MATLab\n",
    "4. SQL"
   ]
  },
  {
   "cell_type": "markdown",
   "id": "06ec1c23-9dd6-4fc4-9726-540e4b3e9b31",
   "metadata": {},
   "source": [
    "Some of the commonly used libraries used by Data Scientists include:\n",
    "- Pandas\n",
    "- Numpy\n",
    "- Matplotlib"
   ]
  },
  {
   "cell_type": "markdown",
   "id": "59a72099-049f-4947-8611-bf657923e5cd",
   "metadata": {},
   "source": [
    "|Data Science Tools|\n",
    "|------------------|\n",
    "|Jupyter           |\n",
    "|Spyder            |\n",
    "|VS Code           |"
   ]
  },
  {
   "cell_type": "markdown",
   "id": "11370032-a4c7-431f-8b35-bc57d832f057",
   "metadata": {},
   "source": [
    "### Below are a few examples of evaluating arithmetic expressions in Python"
   ]
  },
  {
   "cell_type": "code",
   "execution_count": 9,
   "id": "d55d822e-7331-4742-a77a-8e4fde2644fc",
   "metadata": {},
   "outputs": [
    {
     "data": {
      "text/plain": [
       "17"
      ]
     },
     "execution_count": 9,
     "metadata": {},
     "output_type": "execute_result"
    }
   ],
   "source": [
    "# This a simple arithmetic expression to mutiply then add integers\n",
    "(3*4)+5"
   ]
  },
  {
   "cell_type": "code",
   "execution_count": 11,
   "id": "d0bd7ee1-b26c-43a7-b772-2274297e04fe",
   "metadata": {},
   "outputs": [
    {
     "name": "stdout",
     "output_type": "stream",
     "text": [
      "3.3333333333333335\n"
     ]
    }
   ],
   "source": [
    "# This will convert 200 minutes to hours by diving by 60\n",
    "minutes = 200\n",
    "minutes_to_hours = minutes / 60\n",
    "print(minutes_to_hours)"
   ]
  }
 ],
 "metadata": {
  "kernelspec": {
   "display_name": "Python [conda env:base] *",
   "language": "python",
   "name": "conda-base-py"
  },
  "language_info": {
   "codemirror_mode": {
    "name": "ipython",
    "version": 3
   },
   "file_extension": ".py",
   "mimetype": "text/x-python",
   "name": "python",
   "nbconvert_exporter": "python",
   "pygments_lexer": "ipython3",
   "version": "3.12.2"
  }
 },
 "nbformat": 4,
 "nbformat_minor": 5
}
